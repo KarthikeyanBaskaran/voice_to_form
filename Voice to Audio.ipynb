{
 "cells": [
  {
   "cell_type": "code",
   "execution_count": 39,
   "id": "7982e856",
   "metadata": {},
   "outputs": [],
   "source": [
    "import io\n",
    "from google.cloud import speech\n",
    "from google.oauth2 import service_account\n"
   ]
  },
  {
   "cell_type": "code",
   "execution_count": 40,
   "id": "688feaf2",
   "metadata": {},
   "outputs": [],
   "source": [
    "CLIENT_FILE = r\"C:\\Users\\karth\\Downloads\\speech-to-text-demo-456721-f933eb1fbd32.json\"\n",
    "\n",
    "# Authenticate and create client\n",
    "credentials = service_account.Credentials.from_service_account_file(CLIENT_FILE)\n",
    "client = speech.SpeechClient(credentials=credentials)\n"
   ]
  },
  {
   "cell_type": "code",
   "execution_count": 41,
   "id": "f785c217",
   "metadata": {},
   "outputs": [],
   "source": [
    "\n",
    "# === 2. LOAD AUDIO FILE (Local WAV file under 60 seconds) ===\n",
    "audio_path = r\"C:\\Users\\karth\\Downloads\\speech api.mp3\"  # e.g., \"sample.wav\"\n",
    "with io.open(audio_path, \"rb\") as f:\n",
    "    content = f.read()\n"
   ]
  },
  {
   "cell_type": "code",
   "execution_count": null,
   "id": "76739095",
   "metadata": {},
   "outputs": [
    {
     "name": "stdout",
     "output_type": "stream",
     "text": [
      "Transcript: hi this is AJ with another effortless English podcast\n",
      "Confidence: 0.9888356328010559\n",
      "Transcript:  so today is Monday and I'm here in San Francisco I'm back in San Francisco last week we were in Texas we were at a teaching conference\n",
      "Confidence: 0.9994759559631348\n",
      "Transcript:  and the leader\n",
      "Confidence: 0.9820069670677185\n",
      "Transcript:  of the teaching conference was Blaine Ray\n",
      "Confidence: 0.9217495918273926\n",
      "Transcript:  and first I just want to say some nice things about Blaine Ray because he's a super nice person he's a fantastic teacher he's a great teacher trainer he really helps teachers become better and better\n",
      "Confidence: 0.9722937345504761\n",
      "Transcript:  and I went to Moe went\n",
      "Confidence: 0.821760892868042\n",
      "Transcript:  and Kristen went and Joe went we all learned a lot\n",
      "Confidence: 0.9686232209205627\n"
     ]
    }
   ],
   "source": [
    "# === 3. PREPARE AUDIO AND CONFIG ===\n",
    "audio = speech.RecognitionAudio(content=content)\n",
    "\n",
    "config = speech.RecognitionConfig(\n",
    "    # Update the encoding if your audio file is MP3\n",
    "    encoding=speech.RecognitionConfig.AudioEncoding.MP3,\n",
    "    sample_rate_hertz=44100,\n",
    "    language_code=\"en-US\",\n",
    "    model=\"video\"  # Try \"default\", \"video\", \"phone_call\" based on your use case\n",
    ")\n",
    "\n",
    "# === 4. TRANSCRIBE AUDIO ===\n",
    "response = client.recognize(config=config, audio=audio)\n",
    "\n",
    "# === 5. DISPLAY TRANSCRIPT ===\n",
    "for result in response.results:\n",
    "    print(\"Transcript:\", result.alternatives[0].transcript)"
   ]
  }
 ],
 "metadata": {
  "kernelspec": {
   "display_name": "DAB200",
   "language": "python",
   "name": "python3"
  },
  "language_info": {
   "codemirror_mode": {
    "name": "ipython",
    "version": 3
   },
   "file_extension": ".py",
   "mimetype": "text/x-python",
   "name": "python",
   "nbconvert_exporter": "python",
   "pygments_lexer": "ipython3",
   "version": "3.10.13"
  }
 },
 "nbformat": 4,
 "nbformat_minor": 5
}
